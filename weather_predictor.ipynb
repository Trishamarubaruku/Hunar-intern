import pandas as pd
import numpy as np
import matplotlib.pyplot as plt
from sklearn.model_selection import train_test_split
from sklearn.linear_model import LinearRegression
from sklearn.metrics import mean_squared_error, r2_score

np.random.seed(42)
data = {
    'MinTemp': np.random.uniform(10, 25, 100),
    'MaxTemp': np.random.uniform(20, 40, 100),
    'Humidity': np.random.uniform(40, 90, 100)
}
df = pd.DataFrame(data)
df.to_csv("Weather_Data.csv", index=False)
print(" Sample Weather_Data.csv generated and loaded.")


df = pd.read_csv("Weather_Data.csv")

print(" First 5 rows of data:")
print(df.head())


print("\n Missing values in each column:")
print(df.isnull().sum())


df.dropna(inplace=True)

X = df[['MinTemp', 'Humidity']]  # Independent variables
y = df['MaxTemp']                # Target variable


X_train, X_test, y_train, y_test = train_test_split(X, y, test_size=0.2, random_state=42)


model = LinearRegression()
model.fit(X_train, y_train)


y_pred = model.predict(X_test)


mse = mean_squared_error(y_test, y_pred)
r2 = r2_score(y_test, y_pred)

print("\n Model Evaluation:")
print(f"Mean Squared Error (MSE): {mse:.2f}")
print(f"R² Score: {r2:.2f}")


plt.figure(figsize=(8, 5))
plt.scatter(y_test, y_pred, color='blue', edgecolor='k')
plt.xlabel("Actual MaxTemp")
plt.ylabel("Predicted MaxTemp")
plt.title("Actual vs Predicted MaxTemp")
plt.grid(True)
plt.show()
